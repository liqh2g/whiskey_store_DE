{
 "cells": [
  {
   "attachments": {},
   "cell_type": "markdown",
   "metadata": {},
   "source": [
    "# ☞ **Scarping raw data from website**"
   ]
  },
  {
   "cell_type": "code",
   "execution_count": null,
   "metadata": {},
   "outputs": [],
   "source": [
    "from web_scraping import whisky_data_scraping\n",
    "\n",
    "scraper = whisky_data_scraping()\n",
    "\n",
    "# Scrape Data\n",
    "data = scraper.scrape_whisky(number_of_pages=2)\n",
    "\n",
    "data.to_csv('whisky_data.csv')"
   ]
  },
  {
   "attachments": {},
   "cell_type": "markdown",
   "metadata": {},
   "source": [
    "# ☞ **Generate Random Data**"
   ]
  },
  {
   "cell_type": "code",
   "execution_count": null,
   "metadata": {},
   "outputs": [],
   "source": [
    "import pandas as pd\n",
    "import numpy as np\n",
    "import names\n",
    "from faker import Faker\n",
    "faker = Faker()\n",
    "import pandasql as ps\n",
    "import random\n",
    "import time\n",
    "from datetime import datetime\n",
    "\n",
    "def sql(query):\n",
    "    return ps.sqldf(query)"
   ]
  },
  {
   "attachments": {},
   "cell_type": "markdown",
   "metadata": {},
   "source": [
    "## Gennerate Product Id Columns"
   ]
  },
  {
   "cell_type": "code",
   "execution_count": null,
   "metadata": {},
   "outputs": [],
   "source": [
    "# Loading the csv file from web_sraping into a dataframe\n",
    "product_df = pd.read_csv('/retail_store_de/flows/whisky_data.csv',index_col='Unnamed: 0')\n",
    "\n",
    "# Changing the Alcohol price to float\n",
    "product_df['Alcohol_Price'] = product_df.Alcohol_Price.str.replace(',','').astype('float')\n",
    "\n",
    "product_df['Alcohol_Capcity'] = product_df.Alcohol_Capcity.str.replace('cl','').astype('float')\n",
    "\n",
    "# Generate a column of unique product ids\n",
    "product_id = np.random.default_rng(seed= 0).choice(len(product_df.Product_Name), len(product_df.Product_Name), replace = False)\n",
    "\n",
    "assert len(set(product_id)) == len(product_id)\n",
    "\n",
    "assert len(pd.Series(product_id).unique()) == len(product_id)\n",
    "\n",
    "product_df['product_id'] = product_id\n",
    "\n",
    "product_df.head(10)"
   ]
  },
  {
   "attachments": {},
   "cell_type": "markdown",
   "metadata": {},
   "source": [
    "---\n",
    "## Generate Employees data"
   ]
  },
  {
   "cell_type": "code",
   "execution_count": null,
   "metadata": {},
   "outputs": [],
   "source": [
    "# Generating 100 Employee Unique id's\n",
    "employee_id = np.random.default_rng().choice(4000, 100, replace = False)\n",
    "\n",
    "# Verify that there are as many ids as there are employees\n",
    "assert len(set(employee_id)) == 100\n",
    "\n",
    "# Verify that the new ids are unique\n",
    "assert len(pd.Series(employee_id).unique()) == len(employee_id)\n",
    "\n",
    "# Generating 100 Employee Data\n",
    "employee_first_name = []\n",
    "employee_last_name = []\n",
    "employee_full_name = []\n",
    "employee_email = []\n",
    "employee_city = []\n",
    "departments = ['Sales', 'Finance', 'Marketing', 'BI']\n",
    "employee_department = []\n",
    "\n",
    "# iterate through the employees and generate random data\n",
    "for i in range(len(employee_id)):\n",
    "    employee_first_name.append(names.get_first_name())\n",
    "    employee_last_name.append(names.get_last_name())\n",
    "    employee_full_name.append(employee_first_name[i] + ' ' + employee_last_name[i])\n",
    "    employee_email.append(employee_first_name[i] + employee_last_name[i][0].lower() + '@gmail.com')\n",
    "    employee_city.append(faker.city())\n",
    "    employee_department.append(np.random.choice(departments, 1)[0])\n",
    "\n",
    "\n",
    "# Create an employee dataframe\n",
    "employee_df = pd.DataFrame(employee_id, columns = ['employee_id'])\n",
    "employee_df['first_name'] = employee_first_name\n",
    "employee_df['last_name'] = employee_last_name\n",
    "employee_df['full_name'] = employee_full_name\n",
    "employee_df['email'] = employee_email\n",
    "employee_df['city'] = employee_city\n",
    "employee_df['department'] = employee_department\n",
    "\n",
    "employee_df.tail(10)"
   ]
  },
  {
   "attachments": {},
   "cell_type": "markdown",
   "metadata": {},
   "source": [
    "---\n",
    "## Generate Customer Data"
   ]
  },
  {
   "cell_type": "code",
   "execution_count": null,
   "metadata": {},
   "outputs": [],
   "source": [
    "\n",
    "# Generating 1000 Customer Unique id's\n",
    "customer_id = np.random.default_rng(seed= 0).choice(999999, 1000, replace = False)\n",
    "\n",
    "# Verify that there are as many ids as there are customers\n",
    "assert len(set(customer_id)) == 1000\n",
    "\n",
    "# Verify that the new ids are unique\n",
    "assert len(pd.Series(customer_id).unique()) == len(customer_id)\n",
    "\n",
    "\n",
    "# Generating 1000 Customers Data\n",
    "customer_first_name = []\n",
    "customer_last_name = []\n",
    "customer_full_name = []\n",
    "customer_email = []\n",
    "customer_last_four_digits = []\n",
    "customer_country = []\n",
    "customer_country_code = []\n",
    "customer_street = []\n",
    "customer_credit_card_company = []\n",
    "\n",
    "\n",
    "# iterate through the customers and generate random data\n",
    "for i in range(len(customer_id)): \n",
    "    customer_first_name.append(names.get_first_name())\n",
    "    customer_last_name.append(names.get_last_name())\n",
    "    customer_full_name.append(customer_first_name[i] + ' ' + customer_last_name[i])\n",
    "    customer_email.append(customer_first_name[i] + customer_last_name[i][0].lower() + '@gmail.com')\n",
    "    customer_last_four_digits.append(np.random.randint(low = 1000, high = 9999, size = 1)[0])\n",
    "    customer_country.append(faker.country())\n",
    "    customer_country_code.append(customer_country[i][0:3].upper())\n",
    "    customer_street.append(faker.street_address())\n",
    "    customer_credit_card_company.append(faker.credit_card_provider())\n",
    "\n",
    "\n",
    "# Create a customer dataframe\n",
    "customer_df = pd.DataFrame(customer_id, columns = ['customer_id'])\n",
    "customer_df['first_name'] = customer_first_name\n",
    "customer_df['last_name'] = customer_last_name\n",
    "customer_df['full_name'] = customer_full_name\n",
    "customer_df['email'] = customer_email\n",
    "customer_df['country'] = customer_country\n",
    "customer_df['country_code'] = customer_country_code\n",
    "customer_df['street'] = customer_street\n",
    "customer_df['credit_provider'] = customer_credit_card_company\n",
    "customer_df['four_digits'] = customer_last_four_digits\n",
    "\n",
    "\n",
    "# Sample Output\n",
    "customer_df.tail(10)"
   ]
  },
  {
   "attachments": {},
   "cell_type": "markdown",
   "metadata": {},
   "source": [
    "---\n",
    "### Generate Payments Data"
   ]
  },
  {
   "cell_type": "code",
   "execution_count": null,
   "metadata": {},
   "outputs": [],
   "source": [
    "\n",
    "# Generating random days in the range of 1990 to 2020\n",
    "date_range = pd.date_range(start = \"1990-01-01\", end = \"2020-12-31\", freq=\"D\",)\n",
    "\n",
    "\n",
    "# Generating Unique payment id's\n",
    "payment_id = np.random.default_rng(seed=0).choice(999999, len(date_range), replace = False)\n",
    "\n",
    "# Verify that there are as many ids as there are dates\n",
    "assert len(set(payment_id)) == len(date_range)\n",
    "\n",
    "# Verify that the new ids are unique\n",
    "assert len(pd.Series(payment_id).unique()) == len(payment_id)\n",
    "\n",
    "\n",
    "# Generating payments Data\n",
    "customer_id_payments = []\n",
    "employee_id_payments = []\n",
    "product_id_payments = []\n",
    "dates = []\n",
    "\n",
    "\n",
    "# iterate through the payments and generate random data\n",
    "for i in range(len(payment_id)):\n",
    "    dates.append(datetime.strftime(random.choice(date_range), format='%Y-%m-%d'))\n",
    "    customer_id_payments.append(random.choice(customer_id))\n",
    "    employee_id_payments.append(random.choice(employee_id))\n",
    "    product_id_payments.append(random.choice(product_id))\n",
    "\n",
    "\n",
    "# Create a payments dataframe\n",
    "payment_df = pd.DataFrame(payment_id, columns = ['payment_id'])\n",
    "payment_df['date'] = sorted(dates)\n",
    "payment_df['customer_id'] = customer_id_payments\n",
    "payment_df['employee_id'] = employee_id_payments\n",
    "payment_df['product_id'] = product_id_payments\n",
    "\n",
    "\n",
    "# Adding the Alcohol_price column to the table\n",
    "query = '''\n",
    "select p1.*, p2.Alcohol_Price as price\n",
    "from payment_df p1\n",
    "inner join product_df p2\n",
    "on p1.product_id = p2.product_id\n",
    "'''\n",
    "\n",
    "payment_df = sql(query)\n",
    "\n",
    "\n",
    "# Sample Output\n",
    "payment_df.tail(10)"
   ]
  },
  {
   "attachments": {},
   "cell_type": "markdown",
   "metadata": {},
   "source": [
    "# ☞☞ **Normalizing Tables**"
   ]
  },
  {
   "attachments": {},
   "cell_type": "markdown",
   "metadata": {},
   "source": [
    "- I already have generated all the de-normalized tables, next my job is to normalize them to meet the demands for the third normalized form(3NF)."
   ]
  },
  {
   "attachments": {},
   "cell_type": "markdown",
   "metadata": {},
   "source": [
    "    Normalizing the Customer Table ✔\n",
    "- Right now, each row is unique, and each cell contains exactly one value, so this table already meets the requirements for the first normal form(1NF).\n",
    "- The requirement for the second normal form is to separate groups of values that apply to multiple rows.\n",
    "- I’ll create three separate tables from this table to meet the requirements for 2NF.\n",
    "    - Customers \n",
    "    - countries\n",
    "    - customer credit card"
   ]
  },
  {
   "attachments": {},
   "cell_type": "markdown",
   "metadata": {},
   "source": [
    "        1. First Table — countries"
   ]
  },
  {
   "cell_type": "code",
   "execution_count": null,
   "metadata": {},
   "outputs": [],
   "source": [
    "# Creating a new table called countries\n",
    "unique_countries = customer_df.country.unique()\n",
    "countries_df = pd.DataFrame(unique_countries, columns = ['Country'])\n",
    "countries_df['Country_Code'] = countries_df.Country.str[0:3]\n",
    "countries_df['Country_Code'] = countries_df.Country_Code.str.upper()\n",
    "countries_df['country_id'] = [*range(0,len(countries_df))]\n",
    "\n",
    "# Extracting the country_id column from customers\n",
    "query = '''\n",
    "select countries_df.country_id\n",
    "from customer_df \n",
    "join countries_df\n",
    "on \n",
    "    customer_df.country_code = countries_df.country_code and\n",
    "    customer_df.country = countries_df.country\n",
    "'''\n",
    "\n",
    "country_ids = sql(query)\n",
    "\n",
    "\n",
    "# Connecting countries to customers by adding the foregin key: country_id\n",
    "customer_df['country_id'] = country_ids\n",
    "\n",
    "# Dropping the column country and country_code\n",
    "customer_df = customer_df.drop(['country','country_code'],axis=1)\n",
    "\n"
   ]
  },
  {
   "attachments": {},
   "cell_type": "markdown",
   "metadata": {},
   "source": [
    "        2. Second Table — Customer_cc"
   ]
  },
  {
   "cell_type": "code",
   "execution_count": null,
   "metadata": {},
   "outputs": [],
   "source": [
    "# Creating a new table called customer_cc\n",
    "unique_cc_providers = customer_df.credit_provider.unique()\n",
    "customer_cc_df = pd.DataFrame(unique_cc_providers, columns = ['credit_provider'])\n",
    "customer_cc_df['credit_provider_id'] = [*range(0,len(customer_cc_df))]\n",
    "\n",
    "# Extracting the credit_provider_id column from customers\n",
    "query = '''\n",
    "select customer_cc_df.credit_provider_id\n",
    "from customer_df \n",
    "join customer_cc_df\n",
    "on \n",
    "    customer_df.credit_provider = customer_cc_df.credit_provider\n",
    "'''\n",
    "\n",
    "credit_provider_id = sql(query)\n",
    "\n",
    "# Connecting customer_cc to customers by adding the foregin key: credit_provider_id \n",
    "customer_df['credit_provider_id'] = credit_provider_id\n",
    "\n",
    "\n",
    "# Dropping the column credit_provider\n",
    "customer_df = customer_df.drop(['credit_provider'],axis=1)"
   ]
  },
  {
   "attachments": {},
   "cell_type": "markdown",
   "metadata": {},
   "source": [
    "- Now let’s check if the customer’s table meets the third normal form.\n",
    "- The requirement for 3NF is that each column is dependent only on the primary key. In this case, the primary key is customer_id.\n",
    "- To understand if a column is dependent only on the primary key, I need to answer two questions:\n",
    "    - *Given a primary key, can I tell the value of that column?*      \n",
    "    <span style=\"color: lightskyblue\">If the answer is yes, then I move to the second question</span>\n",
    "    - *Given any other column, can I tell the value of that column?*    \n",
    "    <span style=\"color: lightskyblue\">If the answer is no, I can safely say that this column is dependent only on the primary key.</span>\n",
    "- Eg:\n",
    "    - Given a customer id, can I know the name of that customer ?    \n",
    "    👉 *Yes. Knowing the customer id will pinpoint the customer’s name.*\n",
    "    - Given any other column, can I know the name of the customers ?     \n",
    "    👉 *No. By looking at the last name, country, or any other column, I cannot pinpoint the customer’s name. Multiple people may have the same last name and the same country.*\n",
    "    \n",
    "    "
   ]
  },
  {
   "attachments": {},
   "cell_type": "markdown",
   "metadata": {},
   "source": [
    "    Normalizing the Employees Table ✔\n",
    "- Each row is unique, and each cell contains exactly one value, so this table is already in the first normal form(1NF).\n",
    "- Does this table have values that apply to multiple rows?   (for checking NF2)\n",
    "    - Yes. Department is a repeated value.\n",
    "    - There are only four departments in the organization, this column is causing data redundancy. <span style=\"color: lightskyblue\"> Let’s divide this table into two tables: employees table and department table. </span>"
   ]
  },
  {
   "attachments": {},
   "cell_type": "markdown",
   "metadata": {},
   "source": [
    "        Departments table"
   ]
  },
  {
   "cell_type": "code",
   "execution_count": null,
   "metadata": {},
   "outputs": [],
   "source": [
    "# Extracting the departments from the employees table\n",
    "departments = pd.Series(employee_df.department.unique()).to_list()\n",
    "\n",
    "# Generating unique department ids\n",
    "department_id = [*range(0, len(departments))]\n",
    "\n",
    "# Creating a table called departments\n",
    "department_df = pd.DataFrame(department_id, columns=['department_id'])\n",
    "department_df['department'] = departments\n",
    "\n",
    "\n",
    "# Extracting the country_id column from customers\n",
    "query = '''\n",
    "select department_df.department_id\n",
    "from employee_df \n",
    "join department_df\n",
    "on \n",
    "    employee_df.department = department_df.department\n",
    "'''\n",
    "\n",
    "department_ids = sql(query)\n",
    "\n",
    "# Connecting countries to customers by adding the foregin key: country_id\n",
    "employee_df['department_id'] = department_ids\n",
    "\n",
    "\n",
    "# Dropping the column department\n",
    "employee_df = employee_df.drop('department',axis = 1)"
   ]
  },
  {
   "attachments": {},
   "cell_type": "markdown",
   "metadata": {},
   "source": [
    "- Let's check requirements for 3NF:"
   ]
  },
  {
   "cell_type": "code",
   "execution_count": null,
   "metadata": {},
   "outputs": [],
   "source": [
    "employee_df.head(10)"
   ]
  },
  {
   "attachments": {},
   "cell_type": "markdown",
   "metadata": {},
   "source": [
    "- Each column is dependent only on the primary key, which is employee_id, so this table meets the 3NF."
   ]
  },
  {
   "attachments": {},
   "cell_type": "markdown",
   "metadata": {},
   "source": [
    "# ☞ **Loading data into central RDBMS**"
   ]
  },
  {
   "attachments": {},
   "cell_type": "markdown",
   "metadata": {},
   "source": [
    "    ✔ Connecting Python To MySQL"
   ]
  },
  {
   "cell_type": "code",
   "execution_count": null,
   "metadata": {},
   "outputs": [],
   "source": [
    "# Connecting Python to MySQL\n",
    "import pymysql\n",
    "import pandas as pd\n",
    "\n",
    "connection = pymysql.connect(host ='localhost',port=int(3306),user='root',passwd='liqh_root2805')\n",
    "\n",
    "# Creating a cursor object\n",
    "cursor = connection.cursor()"
   ]
  },
  {
   "attachments": {},
   "cell_type": "markdown",
   "metadata": {},
   "source": [
    "    ✔ Creating a new Schema"
   ]
  },
  {
   "cell_type": "code",
   "execution_count": null,
   "metadata": {},
   "outputs": [],
   "source": [
    "# Create a new schema called whiskey_shop\n",
    "cursor.execute('''\n",
    "drop schema if exists whiskey_shop;\n",
    "''')\n",
    "\n",
    "cursor.execute('''\n",
    "create schema whiskey_shop;\n",
    "''')\n",
    "\n",
    "# Use the new schema\n",
    "cursor.execute('''\n",
    "use whiskey_shop;\n",
    "''')"
   ]
  },
  {
   "attachments": {},
   "cell_type": "markdown",
   "metadata": {},
   "source": [
    "    ✔ Generating empty tables"
   ]
  },
  {
   "cell_type": "code",
   "execution_count": null,
   "metadata": {},
   "outputs": [],
   "source": [
    "# Countries\n",
    "cursor.execute('''\n",
    "DROP TABLE IF EXISTS countries;\n",
    "''')\n",
    "\n",
    "cursor.execute('''\n",
    "CREATE TABLE countries (\n",
    "    Country VARCHAR(100) NOT NULL,\n",
    "    Country_Code VARCHAR(100) NOT NULL,\n",
    "    country_id INT PRIMARY KEY\n",
    "    );\n",
    "''')"
   ]
  },
  {
   "cell_type": "code",
   "execution_count": null,
   "metadata": {},
   "outputs": [],
   "source": [
    "# Customer_cc\n",
    "cursor.execute('''\n",
    "DROP TABLE IF EXISTS customer_cc;\n",
    "''')\n",
    "\n",
    "cursor.execute('''\n",
    "CREATE TABLE customer_cc (\n",
    "    credit_provider VARCHAR(100) NOT NULL,\n",
    "    credit_provider_id INT PRIMARY KEY\n",
    "    );\n",
    "''')"
   ]
  },
  {
   "cell_type": "code",
   "execution_count": null,
   "metadata": {},
   "outputs": [],
   "source": [
    "# Products\n",
    "cursor.execute('''\n",
    "DROP TABLE IF EXISTS products;\n",
    "''')\n",
    "\n",
    "cursor.execute('''\n",
    "CREATE TABLE products (\n",
    "    Product_Name VARCHAR(100) NOT NULL,\n",
    "    Alcohol_Percent FLOAT NOT NULL,\n",
    "    Alcohol_Capcity FLOAT NOT NULL,\n",
    "    Alcohol_Price FLOAT NOT NULL,\n",
    "    product_id int NOT NULL PRIMARY KEY\n",
    "    );\n",
    "''')"
   ]
  },
  {
   "cell_type": "code",
   "execution_count": null,
   "metadata": {},
   "outputs": [],
   "source": [
    "# Departments\n",
    "cursor.execute('''\n",
    "DROP TABLE IF EXISTS departments;\n",
    "''')\n",
    "\n",
    "cursor.execute('''\n",
    "CREATE TABLE departments (\n",
    "    department_id INT PRIMARY KEY,\n",
    "    department VARCHAR(100) NOT NULL\n",
    "    );\n",
    "''')"
   ]
  },
  {
   "cell_type": "code",
   "execution_count": null,
   "metadata": {},
   "outputs": [],
   "source": [
    "# Customers\n",
    "cursor.execute('''\n",
    "DROP TABLE IF EXISTS customers;\n",
    "''')\n",
    "\n",
    "cursor.execute('''\n",
    "CREATE TABLE customers (\n",
    "    customer_id INT PRIMARY KEY NOT NULL,\n",
    "    first_name VARCHAR(100) NOT NULL,\n",
    "    last_name VARCHAR(100) NOT NULL,\n",
    "    full_name VARCHAR(100) NOT NULL,\n",
    "    email VARCHAR(100) NOT NULL,\n",
    "    street VARCHAR(100) NOT NULL,\n",
    "    four_digits INT NOT NULL,\n",
    "    country_id INT NOT NULL,\n",
    "    credit_provider_id INT NOT NULL,\n",
    "    \n",
    "    FOREIGN KEY (country_id) REFERENCES countries (country_id),\n",
    "    FOREIGN KEY (credit_provider_id) REFERENCES customer_cc (credit_provider_id)\n",
    ");\n",
    "''')"
   ]
  },
  {
   "cell_type": "code",
   "execution_count": null,
   "metadata": {},
   "outputs": [],
   "source": [
    "# Employees\n",
    "cursor.execute('''\n",
    "DROP TABLE IF EXISTS employees;\n",
    "''')\n",
    "\n",
    "cursor.execute('''\n",
    "CREATE TABLE employees (\n",
    "    employee_id INT PRIMARY KEY NOT NULL,\n",
    "    first_name VARCHAR(100) NOT NULL,\n",
    "    last_name VARCHAR(100) NOT NULL,\n",
    "    full_name VARCHAR(100) NOT NULL,\n",
    "    email VARCHAR(100) NOT NULL,\n",
    "    city VARCHAR(100) NOT NULL,\n",
    "    department_id INT NOT NULL,\n",
    "    \n",
    "    FOREIGN KEY (department_id) REFERENCES departments(department_id)\n",
    ");\n",
    "''')"
   ]
  },
  {
   "cell_type": "code",
   "execution_count": null,
   "metadata": {},
   "outputs": [],
   "source": [
    "# Payments\n",
    "cursor.execute('''\n",
    "DROP TABLE IF EXISTS payments;\n",
    "''')\n",
    "\n",
    "cursor.execute('''\n",
    "CREATE TABLE payments (\n",
    "    payment_id INT NOT NULL PRIMARY KEY,\n",
    "    date DATE NOT NULL,\n",
    "    customer_id INT NOT NULL,\n",
    "    employee_id INT NOT NULL,\n",
    "    product_id INT NOT NULL,\n",
    "    price FLOAT NOT NULL,\n",
    "\n",
    "    FOREIGN KEY (product_id) REFERENCES products(product_id),\n",
    "    FOREIGN KEY (employee_id) REFERENCES employees(employee_id),\n",
    "    FOREIGN KEY (customer_id) REFERENCES customers(customer_id)\n",
    "    );\n",
    "''')\n"
   ]
  },
  {
   "attachments": {},
   "cell_type": "markdown",
   "metadata": {},
   "source": [
    "    The ERD diagram of the schema:"
   ]
  },
  {
   "attachments": {
    "image-2.png": {
     "image/png": "[encoded data removed]"
    }
   },
   "cell_type": "markdown",
   "metadata": {},
   "source": [
    "![image-2.png](attachment:image-2.png)"
   ]
  },
  {
   "attachments": {},
   "cell_type": "markdown",
   "metadata": {},
   "source": [
    "    ✔ Populating the tables"
   ]
  },
  {
   "attachments": {},
   "cell_type": "markdown",
   "metadata": {},
   "source": [
    "        ✍Countries"
   ]
  },
  {
   "cell_type": "code",
   "execution_count": null,
   "metadata": {},
   "outputs": [],
   "source": [
    "# Convert the Dataframe into a list of arrays\n",
    "records = countries_df.to_records(index=False)\n",
    "\n",
    "# Convert the list of arrays into a tuple of tuples\n",
    "result = tuple(records)\n",
    "\n",
    "for data in range(0,len(result)):\n",
    "    \n",
    "    # Create a new record\n",
    "    query = \"insert into countries (country, country_code, country_id) values {}\".format(result[data])\n",
    "    \n",
    "    # Execute the query\n",
    "    cursor.execute(query)\n",
    "    \n",
    "    \n",
    "# Commit the transaction\n",
    "connection.commit()"
   ]
  },
  {
   "attachments": {},
   "cell_type": "markdown",
   "metadata": {},
   "source": [
    "        ✍Customer_cc"
   ]
  },
  {
   "cell_type": "code",
   "execution_count": null,
   "metadata": {},
   "outputs": [],
   "source": [
    "# Convert the Dataframe into a list of arrays\n",
    "records = customer_cc_df.to_records(index=False)\n",
    "\n",
    "# Convert the list of arrays into a tuple of tuples\n",
    "result = tuple(records)\n",
    "\n",
    "for data in range(0,len(result)):\n",
    "    \n",
    "    # Create a new record\n",
    "    query = \"insert into customer_cc (credit_provider, credit_provider_id) values {}\".format(result[data])\n",
    "    \n",
    "    # Execute the query\n",
    "    cursor.execute(query)\n",
    "    \n",
    "    \n",
    "# Commit the transaction\n",
    "connection.commit()"
   ]
  },
  {
   "attachments": {},
   "cell_type": "markdown",
   "metadata": {},
   "source": [
    "        ✍Products"
   ]
  },
  {
   "cell_type": "code",
   "execution_count": null,
   "metadata": {},
   "outputs": [],
   "source": [
    "# Convert the Dataframe into a list of arrays\n",
    "records = product_df.to_records(index=False)\n",
    "\n",
    "# Convert the list of arrays into a tuple of tuples\n",
    "result = tuple(records)\n",
    "\n",
    "for data in range(0,len(result)):\n",
    "    \n",
    "    # Create a new record\n",
    "    query = \"insert into products (Product_Name, Alcohol_Percent, Alcohol_Capcity, Alcohol_Price,product_id) values {}\".format(result[data])\n",
    "    \n",
    "    # Execute the query\n",
    "    cursor.execute(query)\n",
    "    \n",
    "    \n",
    "# Commit the transaction\n",
    "connection.commit()"
   ]
  },
  {
   "attachments": {},
   "cell_type": "markdown",
   "metadata": {},
   "source": [
    "        ✍Departments"
   ]
  },
  {
   "cell_type": "code",
   "execution_count": null,
   "metadata": {},
   "outputs": [],
   "source": [
    "# Convert the Dataframe into a list of arrays\n",
    "records = department_df.to_records(index=False)\n",
    "\n",
    "# Convert the list of arrays into a tuple of tuples\n",
    "result = tuple(records)\n",
    "\n",
    "for data in range(0,len(result)):\n",
    "    \n",
    "    # Create a new record\n",
    "    query = \"insert into departments (department_id, department) values {}\".format(result[data])\n",
    "    \n",
    "    # Execute the query\n",
    "    cursor.execute(query)\n",
    "    \n",
    "    \n",
    "# Commit the transaction\n",
    "connection.commit()"
   ]
  },
  {
   "attachments": {},
   "cell_type": "markdown",
   "metadata": {},
   "source": [
    "        ✍Customers"
   ]
  },
  {
   "cell_type": "code",
   "execution_count": null,
   "metadata": {},
   "outputs": [],
   "source": [
    "\n",
    "# Convert the Dataframe into a list of arrays\n",
    "records = customer_df.to_records(index=False)\n",
    "\n",
    "# Convert the list of arrays into a tuple of tuples\n",
    "result = tuple(records)\n",
    "\n",
    "for data in range(0,len(result)):\n",
    "    \n",
    "    # Create a new record\n",
    "    query = \"insert into customers (customer_id, first_name, last_name, full_name, email, street, four_digits, country_id, credit_provider_id) values {}\".format(result[data])\n",
    "    \n",
    "    # Execute the query\n",
    "    cursor.execute(query)\n",
    "    \n",
    "    \n",
    "# Commit the transaction\n",
    "connection.commit()"
   ]
  },
  {
   "attachments": {},
   "cell_type": "markdown",
   "metadata": {},
   "source": [
    "        ✍Employees"
   ]
  },
  {
   "cell_type": "code",
   "execution_count": null,
   "metadata": {},
   "outputs": [],
   "source": [
    "# Convert the Dataframe into a list of arrays\n",
    "records = employee_df.to_records(index=False)\n",
    "\n",
    "# Convert the list of arrays into a tuple of tuples\n",
    "result = tuple(records)\n",
    "\n",
    "for data in range(0,len(result)):\n",
    "    \n",
    "    # Create a new record\n",
    "    query = \"insert into employees (employee_id, first_name, last_name, full_name,email,city, department_id) values {}\".format(result[data])\n",
    "    \n",
    "    # Execute the query\n",
    "    cursor.execute(query)\n",
    "    \n",
    "    \n",
    "# Commit the transaction\n",
    "connection.commit()"
   ]
  },
  {
   "attachments": {},
   "cell_type": "markdown",
   "metadata": {},
   "source": [
    "        ✍Payments"
   ]
  },
  {
   "cell_type": "code",
   "execution_count": null,
   "metadata": {},
   "outputs": [],
   "source": [
    "# Convert the Dataframe into a list of arrays\n",
    "records = payment_df.to_records(index=False)\n",
    "\n",
    "# Convert the list of arrays into a tuple of tuples\n",
    "result = tuple(records)\n",
    "\n",
    "for data in range(0,len(result)):\n",
    "    \n",
    "    # Create a new record\n",
    "    query = \"insert into payments (payment_id, date,customer_id,employee_id,product_id,price) values {}\".format(result[data])\n",
    "    \n",
    "    # Execute the query\n",
    "    cursor.execute(query)\n",
    "    \n",
    "    \n",
    "# Commit the transaction\n",
    "connection.commit()"
   ]
  }
 ],
 "metadata": {
  "kernelspec": {
   "display_name": "virtualenv",
   "language": "python",
   "name": "python3"
  },
  "language_info": {
   "codemirror_mode": {
    "name": "ipython",
    "version": 3
   },
   "file_extension": ".py",
   "mimetype": "text/x-python",
   "name": "python",
   "nbconvert_exporter": "python",
   "pygments_lexer": "ipython3",
   "version": "3.11.3"
  },
  "orig_nbformat": 4
 },
 "nbformat": 4,
 "nbformat_minor": 2
}
